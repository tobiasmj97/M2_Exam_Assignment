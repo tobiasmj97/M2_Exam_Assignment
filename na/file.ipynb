{
 "cells": [
  {
   "cell_type": "code",
   "execution_count": 2,
   "metadata": {},
   "outputs": [],
   "source": [
    "# Import the necessary libraries\n",
    "\n",
    "# Basic libraries for data manipulation, numerical operations, visualization ect.\n",
    "import pandas as pd # Import the pandas library for data manipulation and analysis\n",
    "import numpy as np # Import the numpy library for numerical operations\n",
    "import seaborn as sns # Import the seaborn library for data visualization based on Matplotlib\n",
    "import matplotlib.pyplot as plt # Import the pyplot module from matplotlib for creating static plots\n",
    "import plotly.graph_objects as go  # Import the graph_objects module from plotly for creating interative network plots\n",
    "\n",
    "# Libraries for Network Analysis and Community Detection\n",
    "import networkx as nx # import NetworkX for network analysis\n",
    "from community import community_louvain # Import community detection module from NetworkX"
   ]
  },
  {
   "cell_type": "code",
   "execution_count": 3,
   "metadata": {},
   "outputs": [],
   "source": [
    "# Define the filepath of the dataset\n",
    "filepath_edgelist = 'congress.edgelist'\n",
    "\n",
    "# Use networkx to read the dataset as a DiGraph since the netword is directed Network\n",
    "data = nx.read_edgelist(filepath_edgelist, create_using = nx.DiGraph)\n",
    "\n",
    "# Now we convert this edgelist to a pandas dataframe and show it with the .head() function\n",
    "G_pandas = nx.to_pandas_edgelist(data)\n",
    "\n",
    "# Convert the 'source' and 'target' column to integers\n",
    "G_pandas['source'] = G_pandas['source'].astype(int)\n",
    "G_pandas['target'] = G_pandas['target'].astype(int)"
   ]
  },
  {
   "cell_type": "code",
   "execution_count": 4,
   "metadata": {},
   "outputs": [],
   "source": [
    "# Define the filepath of the dataset\n",
    "filepath_username = 'congress_network_data.json'\n",
    "\n",
    "# Use pandas to read the json-file as a pandas dataframe\n",
    "username_data = pd.read_json(filepath_username)\n",
    "\n",
    "# Define a function to extract the username list from a given record\n",
    "def extract_username_list(record):\n",
    "    return record\n",
    "\n",
    "# Apply the 'extract_username_list' function to the 'usernameList' column and create a new column 'Extracted_Username_List'\n",
    "username_data['Extracted_Username_List'] = username_data['usernameList'].apply(extract_username_list)\n",
    "\n",
    "# Get the username list from the first record (assuming 'usernameList' is a list of usernames in the DataFrame)\n",
    "username_list = username_data['usernameList'][0]\n",
    "\n",
    "# Create a DataFrame from the list of usernames\n",
    "usernames = pd.DataFrame({'username': username_list})"
   ]
  },
  {
   "cell_type": "code",
   "execution_count": 5,
   "metadata": {},
   "outputs": [],
   "source": [
    "# After we have made our edgelist to a pandas dataframe we make this to a DiGraph we can use nx.from_pandas_edgelist\n",
    "G = nx.from_pandas_edgelist(G_pandas,\n",
    "                            source='source',\n",
    "                            target='target',\n",
    "                            edge_attr='weight',\n",
    "                            create_using = nx.DiGraph)\n",
    "\n",
    "# Set 'username' as an attribute for each node\n",
    "attributes = usernames.to_dict()['username']\n",
    "nx.set_node_attributes(G, attributes, 'username')"
   ]
  },
  {
   "cell_type": "code",
   "execution_count": 6,
   "metadata": {},
   "outputs": [],
   "source": [
    "centrality_dgr = nx.degree_centrality(G)\n",
    "dgr = nx.degree(G)\n",
    "centrality_eig = nx.eigenvector_centrality_numpy(G, weight = 'weight')\n",
    "centrality_between = nx.betweenness_centrality(G)"
   ]
  },
  {
   "cell_type": "code",
   "execution_count": 7,
   "metadata": {},
   "outputs": [],
   "source": [
    "dict_dgr = dict(nx.degree(G))\n",
    "dict_centrality_dgr = dict(nx.degree_centrality(G))\n",
    "dict_centrality_eig = dict(nx.eigenvector_centrality(G))\n",
    "dict_centrality_between = dict(nx.betweenness_centrality(G))"
   ]
  },
  {
   "cell_type": "code",
   "execution_count": 8,
   "metadata": {},
   "outputs": [],
   "source": [
    "nx.set_node_attributes(G, dict_dgr, 'dgr')\n",
    "nx.set_node_attributes(G, dict_centrality_dgr, 'centrality_dgr')\n",
    "nx.set_node_attributes(G, dict_centrality_eig, 'centrality_eig')\n",
    "nx.set_node_attributes(G, dict_centrality_between, 'centrality_between')"
   ]
  },
  {
   "cell_type": "code",
   "execution_count": 12,
   "metadata": {},
   "outputs": [],
   "source": [
    "top = 1\n",
    "nodes_df = pd.DataFrame.from_dict(dict(G.nodes(data=True)), orient='index')\n",
    "top_central_nodes = nodes_df[nodes_df.centrality_eig > nodes_df.centrality_eig.quantile(1-top)].index\n",
    "G_sub = nx.subgraph(G, top_central_nodes)"
   ]
  },
  {
   "cell_type": "code",
   "execution_count": 13,
   "metadata": {},
   "outputs": [],
   "source": [
    "# We convert our directed network into an undirected one\n",
    "G_und = nx.to_undirected(G_sub)\n",
    "partition = community_louvain.best_partition(G_und)\n",
    "nx.set_node_attributes(G_und, partition, 'community')\n",
    "nodes_df_und = pd.DataFrame.from_dict(dict(G_und.nodes(data=True)), orient='index')"
   ]
  },
  {
   "cell_type": "code",
   "execution_count": 14,
   "metadata": {},
   "outputs": [],
   "source": [
    "from pyvis.network import Network\n",
    "import pyvis\n",
    "import networkx as nx\n",
    "\n",
    "net = Network(\n",
    "    notebook=True, \n",
    "    cdn_resources=\"remote\",\n",
    "    select_menu=True,\n",
    "    filter_menu=True,\n",
    "    )\n",
    "\n",
    "net.set_options(\"\"\"\n",
    "const options = {\n",
    "  \"physics\": {\n",
    "    \"minVelocity\": 0.75,\n",
    "    \"solver\": \"repulsion\"\n",
    "  }\n",
    "}\n",
    "\"\"\"             \n",
    ")\n",
    "\n",
    "net.from_nx(G_und)"
   ]
  },
  {
   "cell_type": "code",
   "execution_count": 15,
   "metadata": {},
   "outputs": [
    {
     "name": "stdout",
     "output_type": "stream",
     "text": [
      "nx.html\n"
     ]
    },
    {
     "data": {
      "text/html": [
       "\n",
       "        <iframe\n",
       "            width=\"100%\"\n",
       "            height=\"600px\"\n",
       "            src=\"nx.html\"\n",
       "            frameborder=\"0\"\n",
       "            allowfullscreen\n",
       "            \n",
       "        ></iframe>\n",
       "        "
      ],
      "text/plain": [
       "<IPython.lib.display.IFrame at 0x28a272850>"
      ]
     },
     "execution_count": 15,
     "metadata": {},
     "output_type": "execute_result"
    }
   ],
   "source": [
    "net.show('nx.html')"
   ]
  }
 ],
 "metadata": {
  "kernelspec": {
   "display_name": "bds-network",
   "language": "python",
   "name": "python3"
  },
  "language_info": {
   "codemirror_mode": {
    "name": "ipython",
    "version": 3
   },
   "file_extension": ".py",
   "mimetype": "text/x-python",
   "name": "python",
   "nbconvert_exporter": "python",
   "pygments_lexer": "ipython3",
   "version": "3.11.4"
  }
 },
 "nbformat": 4,
 "nbformat_minor": 2
}
